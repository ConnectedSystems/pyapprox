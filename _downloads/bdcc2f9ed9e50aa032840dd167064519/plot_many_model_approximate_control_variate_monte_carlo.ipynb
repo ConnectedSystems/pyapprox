{
  "cells": [
    {
      "cell_type": "markdown",
      "metadata": {},
      "source": [
        "Add latex macros$$\\newcommand{\\V}[1]{{\\boldsymbol{#1}}}\\newcommand{mean}[1]{{\\mathbb{E}\\left[#1\\right]}}\\newcommand{var}[1]{{\\mathbb{V}\\left[#1\\right]}}\\newcommand{covar}[2]{\\mathbb{C}\\text{ov}\\left[#1,#2\\right]}\\newcommand{corr}[2]{\\mathbb{C}\\text{or}\\left[#1,#2\\right]}\\newcommand{argmin}{\\mathrm{argmin}}\\def\\rv{z}\\def\\reals{\\mathbb{R}}\\def\\pdf{\\rho}\\def\\rvdom{\\Gamma}\\def\\coloneqq{\\colon=}\\newcommand{norm}{\\lVert #1 \\rVert}\\def\\argmax{\\operatorname{argmax}}\\def\\ai{\\alpha}\\def\\bi{\\beta}\\newcommand{\\dx}[1]{\\;\\mathrm{d}#1}$$"
      ]
    },
    {
      "cell_type": "markdown",
      "metadata": {},
      "source": [
        "\nGeneralized Approximate Control Variate Monte Carlo\n===================================================\nThis tutorial builds upon `sphx_glr_auto_tutorials_multi_fidelity_plot_approximate_control_variate_monte_carlo.py`, `sphx_glr_auto_tutorials_multi_fidelity_plot_multi_level_monte_carlo.py`, and `sphx_glr_auto_tutorials_multi_fidelity_plot_multi_fidelity_monte_carlo.py`. MLMC and MFMC are two approaches which can utilize an esemble of models of vary cost and accuracy to efficiently estimate the expectation of the highest fidelity model. In this tutorial we introduce a general framework for ACVMC when using 2 or more mmodels. We show that MFMC are both instances of this framework and use the flexibility of the framework to derive new ACV estimators.\n\nControl variate Monte Carlo can be easily extended and applied to more than two models. Consider $M$ lower fidelity models with sample ratios $r_\\alpha>=1$, for $\\alpha=1,\\ldots,M$. The approximate control variate estimator of the mean of the high-fidelity model $Q_0=\\mean{f_0}$ is\n\n\\begin{align}Q^{\\text{ACV}} &= Q_{0,\\mathcal{Z}_{0,1}} + \\sum_{\\alpha=1}^M \\eta_\\alpha \\left( Q_{\\alpha,\\mathcal{Z}_{\\alpha,1}} - \\mu_{\\alpha,\\mathcal{Z}_{\\alpha,2}} \\right) =Q_{0,\\mathcal{Z}_{0,1}} + \\sum_{\\alpha=1}^M \\eta_\\alpha \\Delta_{\\alpha,\\mathcal{Z}_{\\alpha,1},\\mathcal{Z}_{\\alpha,2}}\\\\&=Q_{0,N}+\\V{\\eta}\\V{\\Delta}\\end{align}\n\nHere $\\V{\\eta}=[\\eta_1,\\ldots,\\eta_M]^T$, $\\V{\\Delta}=[\\Delta_1,\\ldots,\\Delta_M]^T$, and $\\mathcal{Z}_{\\alpha,1}$, $\\mathcal{Z}_{\\alpha,2}$ are sample sets that may or may not be disjoint. Specifying the exact nature of these sets, including their cardinality, can be used to design different ACV estimators which will discuss later.\n\nThe variance of the ACV estimator is\n\n\\begin{align}\\var{Q^{\\text{ACV}}} = \\var{Q_{0}}\\left(1+\\V{\\eta}^T\\frac{\\covar{\\V{\\Delta}}{\\V{\\Delta}}}{\\var{Q_0}}\\V{\\eta}+2\\V{\\eta}^T\\frac{\\covar{\\V{\\Delta}}{Q_0}}{\\var{Q_0}}\\right)\\end{align}\n\nThe control variate weights that produce the minimum variance are given by\n\n\\begin{align}\\V{\\eta} = -\\covar{\\V{\\Delta}}{\\V{\\Delta}}^{-1}\\covar{\\V{\\Delta}}{Q_0}\\end{align}\n\nThe resulting variance reduction is\n\n\\begin{align}\\gamma =1-\\covar{\\V{\\Delta}}{Q_0}^T\\frac{\\covar{\\V{\\Delta}}{\\V{\\Delta}}^{-1}}{\\var{Q_0}}\\covar{\\V{\\Delta}}{Q_0}\\end{align}\n\nThe previous formulae require evaluating covarices with the discrepancies $\\Delta$. To avoid this we write\n\n\\begin{align}\\covar{\\V{\\Delta}}{Q_0}&=N^{-1}\\left(\\mathrm{diag}\\left(F\\right)\\circ \\covar{\\V{Q}_\\mathrm{LF}}{Q_0}\\right)\\\\\n   \\covar{\\V{\\Delta}}{\\V{\\Delta}}&=N^{-1}\\left(\\covar{\\V{Q}_\\mathrm{LF}}{\\V{Q}_\\mathrm{LF}}\\circ F \\right)\\\\\\end{align}\n\nwhere $\\V{Q}_\\mathrm{LF}=[Q_1,\\ldots,Q_M]^T$ and $\\circ$ is the Hadamard  (element-wise) product. The matrix $F$ is dependent on the sampling scheme used to generate the sets $\\mathcal{Z}_{\\alpha,1}$, $\\mathcal{Z}_{\\alpha,2}$. We discuss one useful sampling scheme found in [GGEJJCP2020]_ here.\n\nMLMC and MFMC are Control Variate Estimators\n--------------------------------------------\nIn the following we show that the MLMC and MFMC estimators are both Control Variate estimators and use this insight to derive additional properties of these estimators not discussed previously.\n\nMLMC\n^^^^\nThe three model MLMC estimator is\n\n\\begin{align}Q_{0,\\mathcal{Z}}^\\mathrm{ML}=Q_{2,\\hat{\\mathcal{Z}_{2}}}+\\left(Q_{1,\\hat{\\mathcal{Z}}_{1}}-Q_{2,\\hat{\\mathcal{Z}}_{1}}\\right)+\\left(Q_{0,\\hat{\\mathcal{Z}}_{0}}-Q_{1,\\hat{\\mathcal{Z}}_{0}}\\right)\\end{align}\n\nThe MLMC estimator is a specific form of an ACV estimator.\nBy rearranging terms it is clear that this is just a control variate estimator\n\n\\begin{align}Q_{0,\\mathcal{Z}}^\\mathrm{ML}&=Q_{0,\\hat{\\mathcal{Z}}_{0}} - \\left(Q_{1,\\hat{\\mathcal{Z}}_{0}}-Q_{1,\\hat{\\mathcal{Z}}_{1}}\\right)-\\left(Q_{2,\\hat{\\mathcal{Z}}_{1}}-Q_{2,\\hat{\\mathcal{Z}}_{2}}\\right)\\\\\n   &=Q_{0,\\mathcal{Z}_{0}} - \\left(Q_{1,\\mathcal{Z}_{1,1}}-Q_{1,\\mathcal{Z}_{1,2}}\\right)-\\left(Q_{2,\\mathcal{Z}_{2,1}}-Q_{2,\\mathcal{Z}_{2,2}}\\right)\\end{align}\n\nwhere in the last line we have used the general ACV notation for sample partitioning. The control variate weights in this case are just $\\eta_1=\\eta_2=-1$.\n\nBy inductive reasoning we get the $M$ model ACV version of the MLMC estimator.\n\n\\begin{align}Q_{0,\\mathcal{Z}}^\\mathrm{ML}=Q_{0,\\mathcal{Z}_{0}} +\\sum_{\\alpha=1}^M\\eta_\\alpha\\left(Q_{\\alpha,\\mathcal{Z}_{\\alpha-1,1}}-\\mu_{\\alpha,\\mathcal{Z}_{\\alpha,2}}\\right)\\end{align}\n\nwhere $\\eta_\\alpha=-1,\\forall\\alpha$ and $\\mathcal{Z}_{\\alpha,1}=\\mathcal{Z}_{\\alpha-1,2}$, and $\\mu_{\\alpha,\\mathcal{Z}_{\\alpha,2}}=Q_{\\alpha,\\mathcal{Z}_{\\alpha,2}}$.\n\nTODO: Add the F matrix of the MLMC estimator\n \nBy viewing MLMC as a control variate we can derive its variance reduction [GGEJJCP2020]_\n\n\\begin{align}\\gamma+1 = - \\eta_1^2 \\tau_{1}^2 - 2 \\eta_1 \\rho_{1} \\tau_{1} - \\eta_M^2 \\frac{\\tau_{M}}{\\hat{r}_{M}} - \\sum_{i=2}^M \\frac{1}{\\hat{r}_{i-1}}\\left( \\eta_i^2 \\tau_{i}^2 + \\tau_{i-1}^2 \\tau_{i-1}^2 - 2 \\eta_i \\eta_{i-1} \\rho_{i,i-1} \\tau_{i} \\tau_{i-1} \\right),\n   :label: mlmc-variance-reduction\\end{align}\n\nwhere  $\\tau_\\alpha=\\left(\\frac{\\var{Q_\\alpha}}{\\var{Q_0}}\\right)^{\\frac{1}{2}}$. Recall that and $\\hat{r}_\\alpha=\\lvert\\mathcal{Z}_{\\alpha,2}\\rvert/N$ is the ratio of the cardinality of the sets $\\mathcal{Z}_{\\alpha,2}$ and $\\mathcal{Z}_{0,2}$.\n\nNow consider what happens to this variance reduction if we have unlimited resources to evaluate the low fidelity model. As $\\hat{r}_\\alpha\\to\\infty$, for $\\alpha=1,\\ldots,M$ we have\n\n\\begin{align}\\gamma+1 = - \\eta_1^2 \\tau_{1}^2 - 2 \\eta_1 \\rho_{1} \\tau_{1}\\end{align}\n\nFrom this expression it becomes clear that the variance reduction of a MLMC estimaor is bounded by the CVMC estimator (see `sphx_glr_auto_tutorials_multi_fidelity_plot_control_variate_monte_carlo.py`) using the lowest fidelity model with the highest correlation with $f_0$. \n\nMFMC\n^^^^\nRecall that the $M$ model MFMC estimator is given by\n\n\\begin{align}Q_{0,\\mathcal{Z}}^\\mathrm{MF}=Q_{0,\\mathcal{Z}_{0}} + \\sum_{\\alpha=1}^M\\eta_\\alpha\\left(Q_{\\alpha,\\mathcal{Z}_{\\alpha,1}}-\\mu_{\\alpha,\\mathcal{Z}_{\\alpha}}\\right)\\end{align}\n\nFrom this expression it is clear that MFMC is an approximate control variate estimator.\n\nTODO: Add the F matrix of the MFMC estimator\n\nFor the optimal choice of the control variate weights the variance reduction of the estimator is\n\n\\begin{align}\\gamma = 1-\\rho_1^2\\left(\\frac{r_1-1}{r_1}+\\sum_{\\alpha=2}^M \\frac{r_\\alpha-r_{\\alpha-1}}{r_\\alpha r_{\\alpha-1}}\\frac{\\rho_\\alpha^2}{\\rho_1^2}\\right)\\end{align}\n\nFrom close ispection we see that, as with MLMC, when the variance reduction of the MFMC estimator estimator converges to that of the 2 model CVMC estimator that uses the low-fidelity model that has the highest correlation with the high-fidelity model.\n\nIn the following we will introduce a ACV estimator which does not suffer from this limitation. However, before doing so we wish to remark that this sub-optimality is when the the number of high-fidelity samples is fixed. If the sample allocation to all models can be optimized, as can be done for both MLMC and MFMC, this suboptimality may not always have an impact. We will investigate this futher later in this tutorial.\n\nA New ACV Estimator\n-------------------\nAs we have discussed MLMC and MFMC are ACV estimators, are suboptimal for a fixed number of high-fidelity samples.\nIn the following we detail a straightforward way to obtain an ACV estimator, which will call ACV-IS, that with enough resources can achieve the optimal variance reduction of CVMC when the low-fidelity means are known.  \n\nTo obtain the ACV-IS estimator we first evaluate each model (including the high-fidelity model) at a set of $N$ samples  $\\mathcal{Z}_{\\alpha,1}$. We then evaluate each low fidelity model at an additional $N(1-r_\\alpha)$ samples $\\mathcal{Z}_{\\alpha,2}$. That is the sample sets satisfy $\\mathcal{Z}_{\\alpha,1}=\\mathcal{Z}_{0}\\;\\forall\\alpha>0$ and $\\left(\\mathcal{Z}_{\\alpha,2}\\setminus\\mathcal{Z}_{\\alpha,1}\\right)\\cap\\left(\\mathcal{Z}_{\\kappa,2}\\setminus\\mathcal{Z}_{\\kappa,1}\\right)=\\emptyset\\;\\forall\\kappa\\neq\\alpha$. See `acv-is-sample-allocation-mlmc-comparison` for a comparison of the sample sets used by ACV-IS and MLMC.\n\n.. list-table::\n\n   * - \n\n       .. figure:: ../../figures/mlmc.png\n          :width: 100%\n          :align: center\n\n          MLMC sampling strategy\n\n     - \n\n       .. figure:: ../../figures/acv_is.png\n          :width: 100%\n          :align: center\n\n          ACV IS sampling strategy\n\nThe matrix $F$ corresponding to this sample scheme is\n\n\\begin{align}F_{ij}=\\begin{cases}\\frac{r_i-1}{r_i}\\frac{r_j-1}{r_j} & i\\neq j\\\\\n   \\frac{r_i-1}{r_i} & i=j\n   \\end{cases}\\end{align}\n"
      ]
    },
    {
      "cell_type": "markdown",
      "metadata": {},
      "source": [
        "Lets apply ACV to the tunable model ensemble using some helper functions to reduce the amount of code we have to write\n\n"
      ]
    },
    {
      "cell_type": "code",
      "execution_count": null,
      "metadata": {
        "collapsed": false
      },
      "outputs": [],
      "source": [
        "import pyapprox as pya\nimport numpy as np\nimport matplotlib.pyplot as plt\nfrom pyapprox.tests.test_control_variate_monte_carlo import \\\n    TunableModelEnsemble, ShortColumnModelEnsemble, PolynomialModelEnsemble \nfrom scipy.stats import uniform\nfrom functools import partial\nfrom scipy.stats import uniform,norm,lognorm\nnp.random.seed(2)\n\nshifts= [.1,.2]\nmodel = TunableModelEnsemble(1,shifts=shifts)\nexact_integral_f0=0\ncov = model.get_covariance_matrix()\nnhf_samples = int(1e1)\n\ngenerate_samples_and_values = pya.generate_samples_and_values_acv_IS\nget_cv_weights = partial(\n    pya.get_approximate_control_variate_weights,\n    get_discrepancy_covariances=pya.get_discrepancy_covariances_IS)\nget_rsquared = partial(\n    pya.get_rsquared_acv,\n    get_discrepancy_covariances=pya.get_discrepancy_covariances_IS)"
      ]
    },
    {
      "cell_type": "markdown",
      "metadata": {},
      "source": [
        "First let us just use 2 models\n\n"
      ]
    },
    {
      "cell_type": "code",
      "execution_count": null,
      "metadata": {
        "collapsed": false
      },
      "outputs": [],
      "source": [
        "print('Two models')\nmodel_ensemble = pya.ModelEnsemble(model.models[:2])\nnsample_ratios = [10]\nallocate_samples = \\\n    lambda cov, costs, target_cost : [nhf_samples, nsample_ratios, None]\nmeans1, numerical_var_reduction1, true_var_reduction1 = \\\n    pya.estimate_variance_reduction(\n        model_ensemble, cov[:2,:2], model.generate_samples, allocate_samples,\n        generate_samples_and_values, get_cv_weights, get_rsquared, ntrials=1e3,\n        max_eval_concurrency=1)\nprint(\"Theoretical ACV variance reduction\",true_var_reduction1)\nprint(\"Achieved ACV variance reduction\",numerical_var_reduction1)"
      ]
    },
    {
      "cell_type": "markdown",
      "metadata": {},
      "source": [
        "Now let us use 3 models\n\n"
      ]
    },
    {
      "cell_type": "code",
      "execution_count": null,
      "metadata": {
        "collapsed": false
      },
      "outputs": [],
      "source": [
        "print('Three models')\nmodel_ensemble = pya.ModelEnsemble(model.models)\nnsample_ratios = [10,10]\nallocate_samples = \\\n    lambda cov, costs, target_cost : [nhf_samples, nsample_ratios, None]\nmeans2, numerical_var_reduction2, true_var_reduction2 = \\\n    pya.estimate_variance_reduction(\n        model_ensemble, cov, model.generate_samples, allocate_samples,\n        generate_samples_and_values, get_cv_weights, get_rsquared, ntrials=1e3,\n        max_eval_concurrency=1)\nprint(\"Theoretical ACV variance reduction\",true_var_reduction2)\nprint(\"Achieved ACV variance reduction\",numerical_var_reduction2)"
      ]
    },
    {
      "cell_type": "markdown",
      "metadata": {},
      "source": [
        "The benefit of using three models over two models depends on the correlation between each low fidelity model and the high-fidelity model. The benefit on using more models also depends on the relative cost of evaluating each model, however here we will just investigate the effect of changing correlation. The following code shows the variance reduction (relative to standard Monte Carlo) obtained using CVMC (not approximate CVMC) using 2 (OCV1) and three models (OCV2). Unlike MLMC and MFMC, ACV-IS will achieve these variance reductions in the limit as the number of samples of the low fidelity models goes to infinity.\n\n"
      ]
    },
    {
      "cell_type": "code",
      "execution_count": null,
      "metadata": {
        "collapsed": false
      },
      "outputs": [],
      "source": [
        "theta1 = np.linspace(model.theta2*1.05,model.theta0*0.95,5)\ncovs = []\nvar_reds = []\nfor th1 in theta1:\n    model.theta1=th1\n    covs.append(model.get_covariance_matrix())\n    OCV2_var_red = 1-pya.get_control_variate_rsquared(covs[-1])\n    # use model with largest covariance with high fidelity model\n    idx = [0,np.argmax(covs[-1][0,1:])+1]\n    assert idx == [0,1] #it will always be the first model\n    OCV1_var_red = pya.get_control_variate_rsquared(covs[-1][np.ix_(idx,idx)])\n    var_reds.append([OCV2_var_red,OCV1_var_red])\ncovs = np.array(covs)\nvar_reds = np.array(var_reds)\n\nfig,axs = plt.subplots(1,2,figsize=(2*8,6))\nfor ii,jj, in [[0,1],[0,2],[1,2]]:\n    axs[0].plot(theta1,covs[:,ii,jj],'o-',\n                label=r'$\\rho_{%d%d}$'%(ii,jj))\naxs[1].plot(theta1,var_reds[:,0],'o-',label=r'$\\mathrm{OCV2}$')\naxs[1].plot(theta1,var_reds[:,1],'o-',label=r'$\\mathrm{OCV1}$')\naxs[1].plot(theta1,var_reds[:,0]/var_reds[:,1],'o-',\n            label=r'$\\mathrm{OCV2/OCV1}$')\naxs[0].set_xlabel(r'$\\theta_1$')\naxs[0].set_ylabel(r'$\\mathrm{Correlation}$')\naxs[1].set_xlabel(r'$\\theta_1$')\naxs[1].set_ylabel(r'$\\mathrm{Variance\\;reduction\\;ratio} \\; \\gamma$')\naxs[0].legend()\n_ = axs[1].legend()"
      ]
    },
    {
      "cell_type": "markdown",
      "metadata": {},
      "source": [
        "The variance reduction clearly depends on the correlation between all the models.\n\nLet us now compare the variance reduction obtained by MLMC, MFMC and ACV with the MF sampling scheme as we increase the number of samples assigned to the low-fidelity models, while keeping the number of high-fidelity samples fixed. Here we will use the model ensemble\n\n\\begin{align}f_\\alpha(\\rv)=\\rv^{5-\\alpha}, \\quad \\alpha=0,\\ldots,4\\end{align}\n\nwhere each model is the function of a single uniform random variable defined on the unit interval $[0,1]$.\n\n"
      ]
    },
    {
      "cell_type": "code",
      "execution_count": null,
      "metadata": {
        "collapsed": false
      },
      "outputs": [],
      "source": [
        "plt.figure()\npoly_model = PolynomialModelEnsemble()\ncov = poly_model.get_covariance_matrix()\nnhf_samples = 10\nnsample_ratios_base = [2, 4, 8, 16]\ncv_labels = [r'$\\mathrm{OCV-1}$',r'$\\mathrm{OCV-2}$',r'$\\mathrm{OCV-4}$']\ncv_rsquared_funcs=[\n    lambda cov: pya.get_control_variate_rsquared(cov[:2,:2]),\n    lambda cov: pya.get_control_variate_rsquared(cov[:3,:3]),\n    lambda cov: pya.get_control_variate_rsquared(cov)]\ncv_gammas = [1-f(cov) for f in cv_rsquared_funcs]\nfor ii in range(len(cv_gammas)):\n    plt.axhline(y=cv_gammas[ii],linestyle='--',c='k')\n    xloc = -.35\n    plt.text(xloc, cv_gammas[ii]*1.1, cv_labels[ii],fontsize=16)\nplt.axhline(y=1,linestyle='--',c='k')\nplt.text(xloc,1,r'$\\mathrm{MC}$',fontsize=16)\n\nacv_labels = [r'$\\mathrm{MLMC}$',r'$\\mathrm{MFMC}$',r'$\\mathrm{ACV}$-$\\mathrm{MF}$']\nacv_rsquared_funcs = [\n    pya.get_rsquared_mlmc,pya.get_rsquared_mfmc,\n    partial(pya.get_rsquared_acv,\n            get_discrepancy_covariances=pya.get_discrepancy_covariances_MF)]\n\nnplot_points = 20\nacv_gammas = np.empty((nplot_points,len(acv_rsquared_funcs)))\nfor ii in range(nplot_points):\n    nsample_ratios = [r*(2**ii) for r in nsample_ratios_base]\n    acv_gammas[ii,:] = [1-f(cov,nsample_ratios) for f in acv_rsquared_funcs]\nfor ii in range(len(acv_labels)):\n    plt.semilogy(np.arange(nplot_points),acv_gammas[:,ii],label=acv_labels[ii])\nplt.legend()\nplt.xlabel(r'$\\log_2(r_i)-i$')\n_ = plt.ylabel(r'$\\mathrm{Variance}$ $\\mathrm{reduction}$ $\\mathrm{ratio}$ $\\gamma$')"
      ]
    },
    {
      "cell_type": "markdown",
      "metadata": {},
      "source": [
        "As the theory suggests MLMC and MFMC use multiple models to increase the speed to which we converge to the optimal 2 model CV estimator OCV-2. These two approaches reduce the variance of the estimator more quickly than the ACV estimator, but cannot obtain the optimal variance reduction.\n\n"
      ]
    },
    {
      "cell_type": "markdown",
      "metadata": {},
      "source": [
        "Accelerated Approximate Control Variate Monte Carlo\n---------------------------------------------------\nThe recursive estimators work well when the number of low-fidelity samples are smal but ACV can achieve a greater variance reduction for a fixed number of high-fidelity samples. In this section we present an approach called ACV-KL that combines the strengths of these methods.\n\nLet $K,L \\leq M$ with $0 \\leq L \\leq K$. The ACV-KL estimator is\n\n\\begin{align}Q^{\\mathrm{ACV-KL}}_{0,\\mathcal{Z}}=Q_{0,\\mathcal{Z}_{0}} + \\sum_{\\alpha=1}^K\\eta_\\alpha\\left(Q_{\\alpha,\\mathcal{Z}_{0}}-\\mu_{\\alpha,\\mathcal{Z}_{\\alpha}}\\right)+\\sum_{\\alpha=K+1}^M\\eta_\\alpha\\left(Q_{\\alpha,\\mathcal{Z}_{L}}-\\mu_{\\alpha,\\mathcal{Z}_{\\alpha}}\\right)\\end{align}\n\nWe allocate samples to the terms of this estimator using a modified version of the MFMC sampling scheme. The sample allocation for K=2,L=2 is shown in `acv_mf-kl-sample-allocation-kl-comparison`. Note the subtle difference between this sampling scheme and the one used for MFMC. We also note that the sample sets can be chosen in several ways, this is just one choice.\n\n.. list-table::\n\n   * - \n\n       .. figure:: ../../figures/mfmc.png\n          :width: 100%\n          :align: center\n\n          MFMC sampling strategy\n\n     - \n\n       .. figure:: ../../figures/acv_kl_22.png\n          :width: 100%\n          :align: center\n\n          ACV KL MF sampling strategy K=2,L=2\n\nThis estimator differs from the previous recursive estimators because the first two terms in correspond to an ACV-MF estimator with $K$ CVs and the last term adds a CV scheme to the ACV-MF estimator.\n\nThe inclusion of the ACV-MF estimator enables the ACV-KL estimator to converge to the CV estimator and the last term reduces the variance of $\\mu_{L}$, thereby accelerating convergence of the scheme. The optimal weights and variance reduction for the ACV-KL estimator are now provided.\n\nThe matrix $F$ used to compute the covariances of the control variate discrepancies, i.e.\n\n\\begin{align}\\covar{\\V{\\Delta}}{Q_0}&=N^{-1}\\left(\\mathrm{diag}\\left(F\\right)\\circ \\covar{\\V{Q}_\\mathrm{LF}}{Q_0}\\right)\\\\\n   \\covar{\\V{\\Delta}}{\\V{\\Delta}}&=N^{-1}\\left(\\covar{\\V{Q}_\\mathrm{LF}}{\\V{Q}_\\mathrm{LF}}\\circ F\\right)\\\\\\end{align}\n\ncan be found in  [GGEJJCP2020]_.\n\nLet us add the ACV KL estimator with the optimal choice of K and L to the previous plot. The optimal values can be obtained by a simple grid search, over all possible values of K and L, which returns the combination that results in the smallest estimator variance. This step only requires an estimate of the model covariance which is required for all ACV estimators. Note in the following plot OCV-K denotews the optimal CV estimator using K low-fidelity models with known means)\n\n"
      ]
    },
    {
      "cell_type": "code",
      "execution_count": null,
      "metadata": {
        "collapsed": false
      },
      "outputs": [],
      "source": [
        "plt.figure()\ncv_labels = [r'$\\mathrm{OCV-1}$',r'$\\mathrm{OCV-2}$',r'$\\mathrm{OCV-4}$']\ncv_rsquared_funcs=[\n    lambda cov: pya.get_control_variate_rsquared(cov[:2,:2]),\n    lambda cov: pya.get_control_variate_rsquared(cov[:3,:3]),\n    lambda cov: pya.get_control_variate_rsquared(cov)]\ncv_gammas = [1-f(cov) for f in cv_rsquared_funcs]\nxloc = -.35\nfor ii in range(len(cv_gammas)):\n    plt.axhline(y=cv_gammas[ii],linestyle='--',c='k')\n    plt.text(xloc, cv_gammas[ii]*1.1, cv_labels[ii],fontsize=16)\nplt.axhline(y=1,linestyle='--',c='k')\nplt.text(xloc,1,r'$\\mathrm{MC}$',fontsize=16)\n\nacv_labels = [r'$\\mathrm{MLMC}$',r'$\\mathrm{MFMC}$',r'$\\mathrm{ACV}$-$\\mathrm{MF}$',r'$\\mathrm{ACV}$-$\\mathrm{KL}$']\nacv_rsquared_funcs = [\n    pya.get_rsquared_mlmc,pya.get_rsquared_mfmc,\n    partial(pya.get_rsquared_acv,\n            get_discrepancy_covariances=pya.get_discrepancy_covariances_MF),\n    pya.get_rsquared_acv_KL_best]\n\nnplot_points = 20\nacv_gammas = np.empty((nplot_points,len(acv_rsquared_funcs)))\nfor ii in range(nplot_points):\n    nsample_ratios = [r*(2**ii) for r in nsample_ratios_base]\n    acv_gammas[ii,:] = [1-f(cov,nsample_ratios) for f in acv_rsquared_funcs]\nfor ii in range(len(acv_labels)):\n    plt.semilogy(np.arange(nplot_points),acv_gammas[:,ii],label=acv_labels[ii])\nplt.legend()\nplt.xlabel(r'$\\log_2(r_i)-i$')\n_ = plt.ylabel(r'$\\mathrm{Variance}$ $\\mathrm{reduction}$ $\\mathrm{ratio}$ $\\gamma$')"
      ]
    },
    {
      "cell_type": "markdown",
      "metadata": {},
      "source": [
        "The variance of the best ACV-KL still converges to the lowest possible variance. But its variance at small sample sizes is better than ACV-MF  and comparable to MLMC.\n\nTODO Make note about how this scheme is useful when one model may have multiple discretizations.!!!!\n\n"
      ]
    },
    {
      "cell_type": "markdown",
      "metadata": {},
      "source": [
        "Optimal Sample Allocation\n-------------------------\n\nThe previous results compared MLMC with MFMC and ACV-KL when the number of high-fidelity samples were fixed. In the following we compare these methods when the number of samples are optimized to minimize the variance of each estimator.\n\n"
      ]
    },
    {
      "cell_type": "code",
      "execution_count": null,
      "metadata": {
        "collapsed": false
      },
      "outputs": [],
      "source": [
        "variances, nsamples_history = [],[]\nnpilot_samples = 5\nestimators = [pya.MFMC,pya.MLMC,pya.MC,pya.ACVMF]\nest_labels = [r'$\\mathrm{MFMC}$',r'$\\mathrm{MLMC}$',r'$\\mathrm{MC}$',r'$\\mathrm{ACV}-\\mathrm{MF}$']\nlinestyles=['-','--',':','-.']\ntarget_costs = np.array([1e1,1e2,1e3,1e4],dtype=int)\nmodel_labels=[r'$f_0$',r'$f_1$',r'$f_2$',r'$f_3$',r'$f_4$']\ncosts = np.asarray([10**-ii for ii in range(cov.shape[0])])\nfor target_cost in target_costs:\n    for estimator in estimators:\n        est = estimator(cov,costs)\n        nhf_samples,nsample_ratios = est.allocate_samples(target_cost)[:2]\n        variances.append(est.get_variance(nhf_samples,nsample_ratios))\n        nsamples_history.append(est.get_nsamples(nhf_samples,nsample_ratios))\nvariances = np.asarray(variances)\nnsamples_history = np.asarray(nsamples_history)\n\nfig,axs=plt.subplots(1,1,figsize=(8,6))\nfor ii in range(len(estimators)):\n    est_total_costs = np.array(nsamples_history[ii::len(estimators)]).dot(costs)\n    est_variances = variances[ii::len(estimators)]\n    axs.loglog(est_total_costs,est_variances,':',label=est_labels[ii],\n               ls=linestyles[ii])\n    \naxs.set_ylim(axs.get_ylim()[0],1e-3)\n_ = axs.legend()\n#fig # necessary for jupyter notebook to reshow plot in new cell\nplt.show()"
      ]
    },
    {
      "cell_type": "markdown",
      "metadata": {},
      "source": [
        "In this example ACV-KL is a more efficient estimator, i.e. it has a smaller variance for a fixed cost. However this improvement is problem dependent. For other model ensembles another estimator may be more efficient. Modify the above example to use another model to explore this more. The left plot shows the relative costs of evaluating each model using the ACVMF sampling strategy. Compare this to the MLMC sample allocation. Also edit above code to plot the MFMC sample allocation.\n\n"
      ]
    },
    {
      "cell_type": "markdown",
      "metadata": {},
      "source": [
        "Before this tutorial ends it is worth noting that a section of the MLMC literature explores adaptive methods which do not assume there is a fixed high-fidelity model but rather attempt to balance the estimator variance with the deterministic bias. These methods add a higher-fidelity model, e.g. a finer finite element mesh, when the variance is made smaller than the bias. We will not explore this here, but an example of this is shown in the tutorial on multi-index collocation.\n\n"
      ]
    },
    {
      "cell_type": "markdown",
      "metadata": {},
      "source": [
        "References\n^^^^^^^^^^\n.. [GGEJJCP2020] `A generalized approximate control variate framework for multifidelity uncertainty quantification, Journal of Computational Physics, In press, 2020. <https://doi.org/10.1016/j.jcp.2020.109257>`_\n\n"
      ]
    }
  ],
  "metadata": {
    "kernelspec": {
      "display_name": "Python 3",
      "language": "python",
      "name": "python3"
    },
    "language_info": {
      "codemirror_mode": {
        "name": "ipython",
        "version": 3
      },
      "file_extension": ".py",
      "mimetype": "text/x-python",
      "name": "python",
      "nbconvert_exporter": "python",
      "pygments_lexer": "ipython3",
      "version": "3.7.6"
    }
  },
  "nbformat": 4,
  "nbformat_minor": 0
}